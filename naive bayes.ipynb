{
 "cells": [
  {
   "cell_type": "code",
   "execution_count": 1,
   "metadata": {},
   "outputs": [],
   "source": [
    "import numpy as np\n",
    "import scipy\n",
    "import scipy.sparse as sp\n",
    "import utils\n",
    "from tqdm import tqdm\n",
    "import sklearn\n",
    "from sklearn import naive_bayes, linear_model\n",
    "from collections import Counter"
   ]
  },
  {
   "cell_type": "code",
   "execution_count": 2,
   "metadata": {},
   "outputs": [],
   "source": [
    "data_dir = \"./data/\"\n",
    "train_filename = \"topicclass/topicclass_train.txt\"\n",
    "valid_filename = \"topicclass/topicclass_valid.txt\"\n",
    "test_filename = \"topicclass/topicclass_test.txt\""
   ]
  },
  {
   "cell_type": "code",
   "execution_count": 3,
   "metadata": {},
   "outputs": [
    {
     "name": "stderr",
     "output_type": "stream",
     "text": [
      "                              \r"
     ]
    }
   ],
   "source": [
    "train_X, train_y = utils.parse_file(data_dir + train_filename)\n",
    "valid_X, valid_y = utils.parse_file(data_dir + valid_filename)\n",
    "test_X = utils.parse_file(data_dir + test_filename, has_labels=False)"
   ]
  },
  {
   "cell_type": "code",
   "execution_count": 4,
   "metadata": {},
   "outputs": [],
   "source": [
    "vocab_size = len(utils.word2index) - 1"
   ]
  },
  {
   "cell_type": "code",
   "execution_count": 5,
   "metadata": {},
   "outputs": [],
   "source": [
    "sparse_train_X = sp.dok_matrix((len(train_X), vocab_size), dtype=np.int8)\n",
    "sparse_valid_X = sp.dok_matrix((len(valid_X), vocab_size), dtype=np.int8)\n",
    "sparse_test_X = sp.dok_matrix((len(test_X), vocab_size), dtype=np.int8)"
   ]
  },
  {
   "cell_type": "markdown",
   "metadata": {},
   "source": [
    "## Baseline\n",
    "### Naive Bayes with word counts and smoothing"
   ]
  },
  {
   "cell_type": "code",
   "execution_count": 6,
   "metadata": {},
   "outputs": [
    {
     "name": "stderr",
     "output_type": "stream",
     "text": [
      "253909it [03:26, 1227.44it/s]\n",
      "643it [00:00, 1341.78it/s]\n",
      "697it [00:00, 1339.82it/s]\n"
     ]
    }
   ],
   "source": [
    "for i, w in tqdm(enumerate(train_X)):\n",
    "    for j in w:\n",
    "        sparse_train_X[i, j - 1] += 1\n",
    "for i, w in tqdm(enumerate(valid_X)):\n",
    "    for j in w:\n",
    "        sparse_valid_X[i, j - 1] += 1\n",
    "for i, w in tqdm(enumerate(test_X)):\n",
    "    for j in w:\n",
    "        sparse_test_X[i, j - 1] += 1"
   ]
  },
  {
   "cell_type": "code",
   "execution_count": 7,
   "metadata": {},
   "outputs": [],
   "source": [
    "index2label = {}\n",
    "for x in utils.label2index.items():\n",
    "    index2label[x[1]] = x[0]"
   ]
  },
  {
   "cell_type": "code",
   "execution_count": 8,
   "metadata": {},
   "outputs": [
    {
     "name": "stdout",
     "output_type": "stream",
     "text": [
      "0.8149300155520995\n"
     ]
    }
   ],
   "source": [
    "nbmodel = naive_bayes.MultinomialNB(alpha=0.25, fit_prior=False, class_prior=None)\n",
    "nbmodel.fit(sparse_train_X, train_y)\n",
    "nb_val_pred = nbmodel.predict(sparse_valid_X)\n",
    "print(np.where(nb_val_pred == valid_y)[0].shape[0] / len(valid_y))"
   ]
  },
  {
   "cell_type": "code",
   "execution_count": 9,
   "metadata": {},
   "outputs": [
    {
     "name": "stdout",
     "output_type": "stream",
     "text": [
      "0.8320373250388803\n"
     ]
    }
   ],
   "source": [
    "nbmodel = naive_bayes.MultinomialNB(alpha=0.25, fit_prior=True, class_prior=None)\n",
    "nbmodel.fit(sparse_train_X, train_y)\n",
    "nb_val_pred = nbmodel.predict(sparse_valid_X)\n",
    "print(np.where(nb_val_pred == valid_y)[0].shape[0] / len(valid_y))"
   ]
  },
  {
   "cell_type": "code",
   "execution_count": 10,
   "metadata": {},
   "outputs": [],
   "source": [
    "nb_test_pred = nbmodel.predict(sparse_test_X)"
   ]
  },
  {
   "cell_type": "code",
   "execution_count": 11,
   "metadata": {},
   "outputs": [],
   "source": [
    "with open('predict/nb/valid_preds', 'w') as f:\n",
    "    for x in nb_val_pred:\n",
    "        f.write(index2label[x] + '\\n')\n",
    "with open('predict/nb/test_preds', 'w') as f:\n",
    "    for x in nb_test_pred:\n",
    "        f.write(index2label[x] + '\\n')"
   ]
  },
  {
   "cell_type": "code",
   "execution_count": null,
   "metadata": {},
   "outputs": [],
   "source": []
  }
 ],
 "metadata": {
  "kernelspec": {
   "display_name": "Python 3",
   "language": "python",
   "name": "python3"
  },
  "language_info": {
   "codemirror_mode": {
    "name": "ipython",
    "version": 3
   },
   "file_extension": ".py",
   "mimetype": "text/x-python",
   "name": "python",
   "nbconvert_exporter": "python",
   "pygments_lexer": "ipython3",
   "version": "3.6.5"
  }
 },
 "nbformat": 4,
 "nbformat_minor": 2
}
